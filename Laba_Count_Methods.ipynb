{
 "cells": [
  {
   "cell_type": "code",
   "execution_count": 2,
   "metadata": {},
   "outputs": [],
   "source": [
    "import numpy as np\n",
    "import math"
   ]
  },
  {
   "cell_type": "code",
   "execution_count": 3,
   "metadata": {},
   "outputs": [],
   "source": [
    "def our_func(x):\n",
    "    return math.exp(-x**2)"
   ]
  },
  {
   "attachments": {
    "integral.png": {
     "image/png": "[encoded data removed]"
    }
   },
   "cell_type": "markdown",
   "metadata": {},
   "source": [
    "![integral.png](attachment:integral.png)"
   ]
  },
  {
   "cell_type": "code",
   "execution_count": 4,
   "metadata": {},
   "outputs": [],
   "source": [
    "def left_rectangle(func, a, b, h):\n",
    "    dx = 1.0 * (b-a) / h \n",
    "    sum = 0.0\n",
    "    start = a\n",
    "    \n",
    "    for i in range(h):\n",
    "        sum += func(start + i * dx)\n",
    "    \n",
    "    return sum*dx"
   ]
  },
  {
   "cell_type": "code",
   "execution_count": 5,
   "metadata": {},
   "outputs": [
    {
     "name": "stdout",
     "output_type": "stream",
     "text": [
      "Number of steps:  10\n",
      "0.7778168240731773\n",
      "Number of steps:  100\n",
      "0.7499786042621125\n",
      "Number of steps:  1000\n",
      "0.7471401317785985\n"
     ]
    }
   ],
   "source": [
    "for i in [10,100,1000]:\n",
    "    print(\"Number of steps: \", i)\n",
    "    print(left_rectangle(our_func, 0, 1, i))"
   ]
  },
  {
   "cell_type": "code",
   "execution_count": 6,
   "metadata": {},
   "outputs": [],
   "source": [
    "def middle_rectangle(func, a, b, h):\n",
    "    dx = 1.0 * (b-a) / h \n",
    "    sum = 0.0\n",
    "    start = a + 0.5 * dx\n",
    "    \n",
    "    for i in range(h):\n",
    "        sum += func(start + i * dx)\n",
    "    \n",
    "    return sum*dx"
   ]
  },
  {
   "cell_type": "code",
   "execution_count": 7,
   "metadata": {},
   "outputs": [
    {
     "name": "stdout",
     "output_type": "stream",
     "text": [
      "Number of steps:  10\n",
      "0.7471308777479975\n",
      "Number of steps:  100\n",
      "0.7468271984923199\n",
      "Number of steps:  1000\n",
      "0.746824163469049\n"
     ]
    }
   ],
   "source": [
    "for i in [10,100,1000]:\n",
    "    print(\"Number of steps: \", i)\n",
    "    print(middle_rectangle(our_func, 0, 1, i))"
   ]
  },
  {
   "cell_type": "code",
   "execution_count": 8,
   "metadata": {},
   "outputs": [],
   "source": [
    "def trapezoid(func, a, b, h):\n",
    "    dx = 1.0 * (b - a) / h\n",
    "    sum = 0.5 * (func(a) + func(b)) \n",
    "    for i in range(1, h):\n",
    "        sum += func(a + i * dx)\n",
    "\n",
    "    return sum * dx"
   ]
  },
  {
   "cell_type": "code",
   "execution_count": 9,
   "metadata": {},
   "outputs": [
    {
     "name": "stdout",
     "output_type": "stream",
     "text": [
      "Number of steps:  10\n",
      "0.7462107961317495\n",
      "Number of steps:  100\n",
      "0.7468180014679697\n",
      "Number of steps:  1000\n",
      "0.7468240714991843\n"
     ]
    }
   ],
   "source": [
    "for i in [10,100,1000]:\n",
    "    print(\"Number of steps: \", i)\n",
    "    print(trapezoid(our_func, 0, 1, i))"
   ]
  },
  {
   "cell_type": "code",
   "execution_count": 13,
   "metadata": {},
   "outputs": [],
   "source": [
    "def simpson(func, a, b, h):\n",
    "    if h%2 == 1:\n",
    "        h += 1\n",
    "        \n",
    "    dx = 1.0 * (b - a) / h\n",
    "    sum = (func(a) +  4 * func(a + (h - 0.5) * dx)+ func(b))\n",
    "    for i in range(1, h):\n",
    "        sum += 2 * func(a +  i * dx) + 4 * func(a + (i - 0.5) * dx)\n",
    "\n",
    "    return sum * dx / 6"
   ]
  },
  {
   "cell_type": "code",
   "execution_count": 14,
   "metadata": {},
   "outputs": [
    {
     "name": "stdout",
     "output_type": "stream",
     "text": [
      "Number of steps:  10\n",
      "0.7468241838759148\n",
      "Number of steps:  100\n",
      "0.7468241328175367\n",
      "Number of steps:  1000\n",
      "0.7468241328124278\n"
     ]
    }
   ],
   "source": [
    "for i in [10,100,1000]:\n",
    "    print(\"Number of steps: \", i)\n",
    "    print(simpson(our_func, 0, 1, i))"
   ]
  },
  {
   "cell_type": "code",
   "execution_count": 15,
   "metadata": {},
   "outputs": [],
   "source": [
    "import random\n",
    "\n",
    "def Monte_Carlo(func, n):\n",
    "    n_hit = 0\n",
    "    for i in range(int(n)):\n",
    "        x = random.uniform(0,1)\n",
    "        y = random.uniform(0,1)\n",
    "        if (y <= func(x)): \n",
    "            n_hit+=1\n",
    "    return 1.0 * n_hit / n"
   ]
  },
  {
   "cell_type": "code",
   "execution_count": 19,
   "metadata": {},
   "outputs": [
    {
     "name": "stdout",
     "output_type": "stream",
     "text": [
      "Number of steps:  10\n",
      "0.8\n",
      "Number of steps:  100\n",
      "0.77\n",
      "Number of steps:  1000\n",
      "0.759\n",
      "Number of steps:  1000000.0\n",
      "0.746758\n",
      "Number of steps:  10000000.0\n",
      "0.7466858\n",
      "Number of steps:  100000000.0\n",
      "0.7467938\n",
      "Number of steps:  300000000.0\n",
      "0.7468620366666666\n"
     ]
    }
   ],
   "source": [
    "for i in [10,100,1000,1e6,1e7,1e8,3e8]:\n",
    "    print(\"Number of steps: \", i)\n",
    "    print(Monte_Carlo(our_func, i))"
   ]
  },
  {
   "cell_type": "code",
   "execution_count": null,
   "metadata": {},
   "outputs": [],
   "source": []
  }
 ],
 "metadata": {
  "kernelspec": {
   "display_name": "Python 3",
   "language": "python",
   "name": "python3"
  },
  "language_info": {
   "codemirror_mode": {
    "name": "ipython",
    "version": 3
   },
   "file_extension": ".py",
   "mimetype": "text/x-python",
   "name": "python",
   "nbconvert_exporter": "python",
   "pygments_lexer": "ipython3",
   "version": "3.7.3"
  }
 },
 "nbformat": 4,
 "nbformat_minor": 2
}
