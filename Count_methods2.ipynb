{
 "cells": [
  {
   "cell_type": "code",
   "execution_count": 67,
   "metadata": {},
   "outputs": [
    {
     "name": "stdout",
     "output_type": "stream",
     "text": [
      "Populating the interactive namespace from numpy and matplotlib\n"
     ]
    },
    {
     "name": "stderr",
     "output_type": "stream",
     "text": [
      "C:\\ProgramData\\Anaconda3\\lib\\site-packages\\IPython\\core\\magics\\pylab.py:160: UserWarning: pylab import has clobbered these variables: ['pylab', 'f']\n",
      "`%matplotlib` prevents importing * from pylab and numpy\n",
      "  \"\\n`%matplotlib` prevents importing * from pylab and numpy\"\n"
     ]
    }
   ],
   "source": [
    "import pylab\n",
    "import numpy as np\n",
    "import math\n",
    "%pylab inline"
   ]
  },
  {
   "cell_type": "markdown",
   "metadata": {},
   "source": [
    "#### 2.1.10.\n",
    "Даны два уравнения $f(x)=0$ и $g(x)=0$. Найти с точностью\n",
    "$\\epsilon=1e-10$ все корни уравнений, содержащиеся на отрезке $[a, b]$. Для решения задачи использовать метод бисекции. \n",
    "$$f(x) = \\tan^2(x)+(\\sqrt{3}-1)*\\tan(x)-\\sqrt{3}$$\n",
    "\n",
    "\n",
    "$$g(x) = \\tan^2(x) - 2*\\tan(x)+1$$\n",
    "\n",
    "Решим задачу аналитически. \n",
    "\n",
    "$$f(x)=\\tan^2(x)+(\\sqrt{3}-1)*\\tan(x)-\\sqrt{3} = 0$$\n",
    "$$ ] tan(x) = t $$\n",
    "\n",
    "$$t^2+(\\sqrt{3}-1)t-\\sqrt{3} = 0$$\n",
    "\n",
    "$$D = (\\sqrt{3}-1)^2 + 4\\sqrt{3} = 7.4641$$ \n",
    "\n",
    "$$t_1 = \\frac{-\\sqrt{3}+1+\\sqrt{7.4641}}{2} = 1$$\n",
    "\n",
    "$$t_2 = \\frac{-\\sqrt{3}+1-\\sqrt{7.4641}}{2} = -1.73205$$\n",
    "\n",
    "Отсюда \n",
    "\n",
    "$$x_1 = \\arctan(1) = 0.78539$$\n",
    "\n",
    "$$x_2 = \\arctan(-1.73205) = -1.04719$$"
   ]
  },
  {
   "cell_type": "code",
   "execution_count": 2,
   "metadata": {},
   "outputs": [
    {
     "name": "stdout",
     "output_type": "stream",
     "text": [
      "7.464101615137754 0.9999998522046298 -1.732050659773507\n",
      "0.7853980894997578 -1.0471975142477528 0.7853981633974483\n"
     ]
    }
   ],
   "source": [
    "D = (math.sqrt(3)-1)**2 + 4*math.sqrt(3)\n",
    "t1 = (-math.sqrt(3)+1+math.sqrt(7.4641))/2\n",
    "t2 = (-math.sqrt(3)+1-math.sqrt(7.4641))/2\n",
    "t3 = 1\n",
    "print(D,t1,t2)\n",
    "x1 = math.atan(t1)\n",
    "x2 = math.atan(t2)\n",
    "x3 = math.atan(t3)\n",
    "print(x1,x2,x3)"
   ]
  },
  {
   "cell_type": "code",
   "execution_count": 11,
   "metadata": {},
   "outputs": [
    {
     "data": {
      "image/png": "[encoded data removed]",
      "text/plain": [
       "<Figure size 432x288 with 1 Axes>"
      ]
     },
     "metadata": {
      "needs_background": "light"
     },
     "output_type": "display_data"
    }
   ],
   "source": [
    "X = np.arange(a, b, 0.1)\n",
    "plt.plot(X, [f(x) for x in X])\n",
    "ax = plt.subplot()\n",
    "ax.plot(x1, f(x1) , \"or\")\n",
    "ax.plot(x2, f(x2) , \"or\")\n",
    "\n",
    "ax.axhline(y=0, color='k')\n",
    "ax.axvline(x=0, color='k')\n",
    "ax.set_title(\"f(x)\")\n",
    "\n",
    "plt.axes()\n",
    "plt.show()"
   ]
  },
  {
   "cell_type": "markdown",
   "metadata": {},
   "source": [
    "$$g(x) = \\tan^2(x) - 2*\\tan(x)+1=0$$\n",
    "$$ ] tan(x) = t $$\n",
    "\n",
    "$$t^2-2t+1=0$$\n",
    "\n",
    "$$D = 4 - 4 = 0$$\n",
    "\n",
    "$$t_3 = \\frac{2}{2} = 1$$\n",
    "\n",
    "$$x_3 = \\arctan(1) = 0.78539$$"
   ]
  },
  {
   "cell_type": "code",
   "execution_count": 10,
   "metadata": {},
   "outputs": [
    {
     "data": {
      "image/png": "[encoded data removed]",
      "text/plain": [
       "<Figure size 432x288 with 1 Axes>"
      ]
     },
     "metadata": {
      "needs_background": "light"
     },
     "output_type": "display_data"
    }
   ],
   "source": [
    "X = np.arange(a, b+0.1, 0.1)\n",
    "plt.plot(X, [g(x) for x in X])\n",
    "ax = plt.subplot()\n",
    "ax.plot(x3, g(x3) , \"or\")\n",
    "\n",
    "ax.axhline(y=0, color='k')\n",
    "ax.axvline(x=0, color='k')\n",
    "ax.set_title(\"g(x)\")\n",
    "\n",
    "plt.axes()\n",
    "plt.show()"
   ]
  },
  {
   "cell_type": "markdown",
   "metadata": {},
   "source": [
    "Теперь воспользуемся методом бисекции. Алгоритм заключается в следующем:\n",
    "* делим отрезок пополам\n",
    "* далее выбираем ту половину, на которой функция меняет свой знак\n",
    "* продолжаем данный итеративный процесс до тех пор, пока функция не приблизится к нулю с заданной точностью"
   ]
  },
  {
   "cell_type": "code",
   "execution_count": 22,
   "metadata": {},
   "outputs": [
    {
     "name": "stdout",
     "output_type": "stream",
     "text": [
      "Solution for f is  -1.0471975511951317\n",
      "Solution for f is  0.7853981634034426\n",
      "Solution for g is  Doesnt converge\n"
     ]
    }
   ],
   "source": [
    "f =  lambda x: math.tan(x)**2+(math.sqrt(3)-1)*math.tan(x)-math.sqrt(3)\n",
    "g = lambda x: math.tan(x)**2 - 2*math.tan(x)+1\n",
    "\n",
    "a, b = -1.2, 1\n",
    "\n",
    "\n",
    "def half_divide_method(a, b, f, e, max_iter = 1e5, start_left = True):\n",
    "    x = (a + b) / 2\n",
    "    iter_count = 0\n",
    "    while math.fabs(f(x)) >= e:\n",
    "        x = (a + b) / 2\n",
    "        if start_left :\n",
    "            a, b = (a, x) if f(a) * f(x) < 0 else (x, b)\n",
    "        else:\n",
    "            a, b = (x, b) if f(b) * f(x) < 0 else (a, x) \n",
    "        iter_count += 1\n",
    "        if iter_count == max_iter:\n",
    "            return \"Doesnt converge\"\n",
    "    return (a + b) / 2\n",
    "\n",
    "\n",
    "print(\"Solution for f is \", half_divide_method(a, b, f, 1e-10))\n",
    "print(\"Solution for f is \", half_divide_method(a, b, f, 1e-10, start_left = False))\n",
    "print(\"Solution for g is \", half_divide_method(a, b, g, 1e-10))"
   ]
  },
  {
   "cell_type": "code",
   "execution_count": 23,
   "metadata": {},
   "outputs": [
    {
     "name": "stdout",
     "output_type": "stream",
     "text": [
      "-1.0471975511965976\n",
      "0.7853981633974401\n"
     ]
    }
   ],
   "source": [
    "f =  lambda x: math.tan(x)**2+(math.sqrt(3)-1)*math.tan(x)-math.sqrt(3)\n",
    "g = lambda x: math.tan(x)**2 - 2*math.tan(x)+1\n",
    "\n",
    "from scipy import optimize\n",
    "for i in [-0.5,0.5]:\n",
    "    sol = optimize.root(f, i)\n",
    "    print(sol.x[0])"
   ]
  },
  {
   "cell_type": "markdown",
   "metadata": {},
   "source": [
    "С помощью метода бисекции не удалось получить решение для функции $g(x)$, так как данная функция не принимает отрицательных значений на всей области определения. То есть на концах отрезка функция принимает один знак. "
   ]
  },
  {
   "cell_type": "markdown",
   "metadata": {},
   "source": [
    "#### 2.5.2.\n",
    " Найти приближенно корень уравнения $f(x)=0$, принадлежащий отрезку $[a,b]$, с точностью $\\epsilon = 1e-5$ , используя модификацию метода Ньютона для случая кратного корня при значениях $m=1,2,3,4,5$. По\n",
    "числу итераций определить кратность корня.\n",
    "\n",
    "$$f(x) = 144\\sin(x) + 12\\sqrt{3}\\pi + 36x^2 + \\pi^2 - 72 - 12\\pi x - 72\\sqrt{3}x$$\n",
    "\n",
    "$$ [a,b] = [0.3,0.7]$$"
   ]
  },
  {
   "cell_type": "markdown",
   "metadata": {},
   "source": [
    "Метод Ньютона для случая кратного корня обладает лишь линейной скоростью сходимости. Чтобы сохранить квадратичную сходимость его модифицируют следующим образом:\n",
    "\n",
    "$$x_{n+1}=x_n - \\frac{m f(x_n)}{f'(x_n)}$$ , где $m$ - кратность корня. Как правило, значение $m$ неизвестно. Используя метод Ньютона, можно узнать кратность корня. Для этого будем задавать значения $m$ = 1,2,3,4,5, и вычислять значение корня с заданной точностью, одновременно подсчитывая количество итераций для каждого значения . При некотором значении  число итераций будет минимальным. Это значение  и есть кратность корня."
   ]
  },
  {
   "cell_type": "code",
   "execution_count": 24,
   "metadata": {},
   "outputs": [],
   "source": [
    "f1 =  lambda x: 144*math.sin(x) + 12*math.sqrt(3)*math.pi + 36*x**2 + math.pi**2 - 72 - 12*math.pi*x - 72*math.sqrt(3)*x"
   ]
  },
  {
   "cell_type": "code",
   "execution_count": 25,
   "metadata": {},
   "outputs": [],
   "source": [
    "from scipy.misc import derivative\n",
    "a = 0.3 \n",
    "b = 0.7\n",
    "def newtons_method(a, b, f, m, e):\n",
    "    iter_count = 1\n",
    "    x0 = (a + b) / 2\n",
    "    x1 = x0 - m*(f(x0) / derivative(f, x0, dx=1e-6))\n",
    "    while True:\n",
    "        if math.fabs(x1 - x0) < e: return x1,iter_count\n",
    "        x0 = x1\n",
    "        x1 = x0 - (f(x0) / derivative(f, x0, dx=1e-6))\n",
    "        iter_count += 1"
   ]
  },
  {
   "cell_type": "code",
   "execution_count": 26,
   "metadata": {
    "scrolled": true
   },
   "outputs": [
    {
     "name": "stdout",
     "output_type": "stream",
     "text": [
      "Solution for m = 1  is  0.5235889928301907  after  19  iterations\n",
      "Solution for m = 2  is  0.523581020656048  after  16  iterations\n",
      "Solution for m = 3  is  0.5235889415289582  after  3  iterations\n",
      "Solution for m = 4  is  0.5236162826107776  after  16  iterations\n",
      "Solution for m = 5  is  0.5236093518186958  after  18  iterations\n"
     ]
    }
   ],
   "source": [
    "for i in range(1,6):\n",
    "    answer = newtons_method(a, b, f1, i, 1e-5)\n",
    "    print(\"Solution for m =\", i ,\" is \", answer[0] , \" after \", answer[1], \" iterations\" )"
   ]
  },
  {
   "cell_type": "markdown",
   "metadata": {},
   "source": [
    "Таким образом, кратность корня = 3"
   ]
  },
  {
   "cell_type": "code",
   "execution_count": 27,
   "metadata": {},
   "outputs": [
    {
     "data": {
      "text/plain": [
       "0.5235901057255506"
      ]
     },
     "execution_count": 27,
     "metadata": {},
     "output_type": "execute_result"
    }
   ],
   "source": [
    "res = optimize.root(f1, 0)\n",
    "res.x[0]"
   ]
  },
  {
   "cell_type": "markdown",
   "metadata": {},
   "source": [
    "#### 2.10.4.\n",
    "Функция $y=f(x)$ задана неявно уравнением $F(x,y)=0$.На отрезке $[1, 5]$ построить таблицу значений\n",
    "функции $y=f(x)$ с шагом $h=0.5$, применяя один из методов численного решения нелинейного уравнения (с точностью $\\epsilon = 1e-7$).Построить график функции $y=f(x)$ на заданном отрезке.\n",
    "\n",
    "$$\\exp(xy) - \\cos(x\\sqrt[3]{y}) = 0$$"
   ]
  },
  {
   "cell_type": "code",
   "execution_count": 129,
   "metadata": {},
   "outputs": [],
   "source": [
    "def F(x, y):\n",
    "    return math.exp(x*y)-math.cos(x*math.pow(y,1/3))\n",
    "\n",
    "x_space = np.arange(1, 5.5, 0.5)\n",
    "y_space = []\n",
    "\n",
    "for x in x_space:\n",
    "    def j(y):\n",
    "        return f10(x, y)\n",
    "    y_space.append(half_divide_metod(j, 0, 1.2, 1e-7))"
   ]
  },
  {
   "cell_type": "code",
   "execution_count": 130,
   "metadata": {},
   "outputs": [
    {
     "name": "stdout",
     "output_type": "stream",
     "text": [
      "[[1.00000000e+00 3.57627869e-08]\n",
      " [1.50000000e+00 3.57627869e-08]\n",
      " [2.00000000e+00 3.57627869e-08]\n",
      " [2.50000000e+00 3.57627869e-08]\n",
      " [3.00000000e+00 3.57627869e-08]\n",
      " [3.50000000e+00 3.57627869e-08]\n",
      " [4.00000000e+00 3.57627869e-08]\n",
      " [4.50000000e+00 3.57627869e-08]\n",
      " [5.00000000e+00 3.57627869e-08]]\n"
     ]
    }
   ],
   "source": [
    "table = np.array([x_space, y_space]).T\n",
    "print(table)"
   ]
  },
  {
   "cell_type": "code",
   "execution_count": 131,
   "metadata": {},
   "outputs": [
    {
     "data": {
      "text/plain": [
       "[<matplotlib.lines.Line2D at 0x1c34b364a90>]"
      ]
     },
     "execution_count": 131,
     "metadata": {},
     "output_type": "execute_result"
    },
    {
     "data": {
      "image/png": "[encoded data removed]",
      "text/plain": [
       "<Figure size 1080x576 with 1 Axes>"
      ]
     },
     "metadata": {
      "needs_background": "light"
     },
     "output_type": "display_data"
    }
   ],
   "source": [
    "plt.figure(figsize=(15, 8))\n",
    "plt.plot(table[:, 0], table[:, 1])"
   ]
  },
  {
   "cell_type": "code",
   "execution_count": null,
   "metadata": {},
   "outputs": [],
   "source": []
  },
  {
   "cell_type": "code",
   "execution_count": 95,
   "metadata": {},
   "outputs": [],
   "source": [
    "#F = lambda x,y: math.exp(x*y)-math.cos(x*math.pow(y,1/3))"
   ]
  },
  {
   "cell_type": "code",
   "execution_count": 122,
   "metadata": {},
   "outputs": [],
   "source": [
    "def half_divide_metod(f, a, b, eps):\n",
    "    dx = float(b-a)/2\n",
    "    mid = a + dx\n",
    "    \n",
    "    while float(b-a) > eps:\n",
    "        if np.sign(f(a)) != np.sign(f(mid)):\n",
    "            b = mid\n",
    "        else:\n",
    "            a = mid\n",
    "        dx /= 2\n",
    "        mid = a + dx\n",
    "    return mid"
   ]
  },
  {
   "cell_type": "code",
   "execution_count": 114,
   "metadata": {},
   "outputs": [],
   "source": [
    "x_space = np.arange(1, 5.5, 0.5)\n",
    "y_space = []\n",
    "\n",
    "for x in x_space:\n",
    "    def j(y):\n",
    "        return f10(x, y)\n",
    "    y_space.append(bisec(j, 0, 1.2, 1e-7))"
   ]
  },
  {
   "cell_type": "code",
   "execution_count": 115,
   "metadata": {},
   "outputs": [],
   "source": [
    "table = np.array([x_space, y_space]).T"
   ]
  },
  {
   "cell_type": "code",
   "execution_count": 116,
   "metadata": {},
   "outputs": [
    {
     "data": {
      "text/plain": [
       "array([[1.00000000e+00, 3.57627869e-08],\n",
       "       [1.50000000e+00, 3.57627869e-08],\n",
       "       [2.00000000e+00, 3.57627869e-08],\n",
       "       [2.50000000e+00, 3.57627869e-08],\n",
       "       [3.00000000e+00, 3.57627869e-08],\n",
       "       [3.50000000e+00, 3.57627869e-08],\n",
       "       [4.00000000e+00, 3.57627869e-08],\n",
       "       [4.50000000e+00, 3.57627869e-08],\n",
       "       [5.00000000e+00, 3.57627869e-08]])"
      ]
     },
     "execution_count": 116,
     "metadata": {},
     "output_type": "execute_result"
    }
   ],
   "source": [
    "table"
   ]
  },
  {
   "cell_type": "code",
   "execution_count": 86,
   "metadata": {},
   "outputs": [
    {
     "data": {
      "text/plain": [
       "[<matplotlib.lines.Line2D at 0x1c34b8ac860>]"
      ]
     },
     "execution_count": 86,
     "metadata": {},
     "output_type": "execute_result"
    },
    {
     "data": {
      "image/png": "[encoded data removed]",
      "text/plain": [
       "<Figure size 1080x576 with 1 Axes>"
      ]
     },
     "metadata": {
      "needs_background": "light"
     },
     "output_type": "display_data"
    }
   ],
   "source": [
    "plt.figure(figsize=(15, 8))\n",
    "plt.plot(table[:, 0], table[:, 1])"
   ]
  },
  {
   "cell_type": "code",
   "execution_count": 101,
   "metadata": {},
   "outputs": [],
   "source": [
    "import numpy as np\n",
    "for i in np.arange(1,5,0.5):\n",
    "    f = lambda y: F(i,y)\n",
    "    answer = bisec(f, 0.1, 1.2, 1e-7)\n",
    "    res = optimize.root(f, 0)\n",
    "    print(res.x[0])\n",
    "    print(answer)"
   ]
  },
  {
   "cell_type": "code",
   "execution_count": null,
   "metadata": {},
   "outputs": [],
   "source": []
  }
 ],
 "metadata": {
  "kernelspec": {
   "display_name": "Python 3",
   "language": "python",
   "name": "python3"
  },
  "language_info": {
   "codemirror_mode": {
    "name": "ipython",
    "version": 3
   },
   "file_extension": ".py",
   "mimetype": "text/x-python",
   "name": "python",
   "nbconvert_exporter": "python",
   "pygments_lexer": "ipython3",
   "version": "3.7.3"
  }
 },
 "nbformat": 4,
 "nbformat_minor": 2
}
