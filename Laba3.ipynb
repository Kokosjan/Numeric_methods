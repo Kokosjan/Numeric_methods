{
 "cells": [
  {
   "cell_type": "code",
   "execution_count": 1,
   "metadata": {},
   "outputs": [],
   "source": [
    "import numpy as np\n",
    "import matplotlib.pyplot as plt\n",
    "\n",
    "%matplotlib inline"
   ]
  },
  {
   "cell_type": "markdown",
   "metadata": {},
   "source": [
    "## Котосов А.Э.,  БПМ-171, вариант №10"
   ]
  },
  {
   "cell_type": "markdown",
   "metadata": {},
   "source": [
    "### $$№1.1.10$$"
   ]
  },
  {
   "cell_type": "markdown",
   "metadata": {},
   "source": [
    "Дан ряд $\\sum\\limits_{n=0}^\\infty \\frac{84}{13(n^2+14n+48)}$. Найти сумму ряда аналитически. Вычислить значения частичных сумм ряда $S_N = \\sum\\limits_{n=0}^N \\frac{84}{13(n^2+14n+48)}$ и найти величину погрешности при значениях $N = 10, 10^2, 10^3, 10^4, 10^5$. \n",
    "\n",
    "#### Аналитическое решение.\n",
    "$$S_N = \\sum\\limits_{n=0}^N \\frac{84}{13(n^2+14n+48)} = \\sum\\limits_{n=0}^N \\frac{84}{13(n+8)(n+6)} = \n",
    "\\frac{84}{13}(-\\frac{1}{2(N+8)}-\\frac{1}{2(N+7)}+\\frac{13}{84}) $$  \n",
    "$$S = \\lim_{N->\\infty}S_N = 1$$"
   ]
  },
  {
   "cell_type": "code",
   "execution_count": 2,
   "metadata": {},
   "outputs": [],
   "source": [
    "S = 1\n",
    "def S_N(N):\n",
    "    sum = 0\n",
    "    for n in range(N+1):\n",
    "        sum += 84/(13*(n**2+14*n+48))\n",
    "    return sum\n",
    "def d(N):\n",
    "    return abs(S_N(N) - S)"
   ]
  },
  {
   "cell_type": "code",
   "execution_count": 3,
   "metadata": {},
   "outputs": [
    {
     "name": "stdout",
     "output_type": "stream",
     "text": [
      "S(10) = 0.630468 \t d(10) = 0.369532\n",
      "S(100) = 0.939891 \t d(100) = 0.060109\n",
      "S(1000) = 0.993587 \t d(1000) = 0.006413\n",
      "S(10000) = 0.999354 \t d(10000) = 0.000646\n",
      "S(100000) = 0.999935 \t d(100000) = 0.000065\n"
     ]
    }
   ],
   "source": [
    "for i in [10,100,1000,10000,int(1e5)]:\n",
    "    print(\"S({:d}) = {:f} \\t d({:d}) = {:f}\".format(i,S_N(i),i,d(i))) "
   ]
  },
  {
   "cell_type": "markdown",
   "metadata": {},
   "source": [
    "Соответствуюшие M (число верных цифр) = $1,2,3,4,5$.\n",
    "\n",
    "Построим соответствующую гистограмму."
   ]
  },
  {
   "cell_type": "code",
   "execution_count": 4,
   "metadata": {},
   "outputs": [
    {
     "name": "stdout",
     "output_type": "stream",
     "text": [
      "[0 1 2 3 4]\n"
     ]
    },
    {
     "data": {
      "image/png": "[encoded data removed]",
      "text/plain": [
       "<Figure size 432x288 with 1 Axes>"
      ]
     },
     "metadata": {
      "needs_background": "light"
     },
     "output_type": "display_data"
    }
   ],
   "source": [
    "a = np.arange(5)\n",
    "print(a)\n",
    "plt.bar(a,height=[1,2,3,4,5])\n",
    "plt.xticks(a, [10,100,1000,10000,int(1e5)])\n",
    "plt.show()"
   ]
  },
  {
   "cell_type": "markdown",
   "metadata": {},
   "source": [
    "Увеличение числа членов ряда в 10 раз по сравнению с предыдущим случаем увеличивает число верных цифр в ответе на 1"
   ]
  },
  {
   "cell_type": "markdown",
   "metadata": {},
   "source": [
    "### $$№1.3.3$$"
   ]
  },
  {
   "cell_type": "markdown",
   "metadata": {},
   "source": [
    "Для заданной матрицы A найти обратную матрицу (если это возможно). Затем в элемент a11 внести погрешность в 10% и снова найти обратную матрицу. Объяснить полученные результаты.\n",
    "$$A = \\begin{pmatrix}\n",
    "  3& 5& 3\\\\\n",
    "  9& 15& 9\\\\\n",
    "  6& 7& 2\n",
    "\\end{pmatrix}$$"
   ]
  },
  {
   "cell_type": "code",
   "execution_count": 5,
   "metadata": {},
   "outputs": [
    {
     "name": "stdout",
     "output_type": "stream",
     "text": [
      "Deter = 5.495603971894542e-15\n"
     ]
    }
   ],
   "source": [
    "A = np.array([[3.,5.,3.], [9.,15.,9.], [6.,7.,2.]])\n",
    "print(\"Deter =\",np.linalg.det(A))"
   ]
  },
  {
   "cell_type": "markdown",
   "metadata": {},
   "source": [
    "Соответственно, определитель нашей исходной матрицы равен нулю, соответственно, она вырождена и необратима.\n",
    "Внесём теперь погрешность в элемент $a_{11}$."
   ]
  },
  {
   "cell_type": "code",
   "execution_count": 6,
   "metadata": {},
   "outputs": [
    {
     "name": "stdout",
     "output_type": "stream",
     "text": [
      "[[ 3.3  5.   3. ]\n",
      " [ 9.  15.   9. ]\n",
      " [ 6.   7.   2. ]]\n",
      "Deter = -9.899999999999997\n"
     ]
    }
   ],
   "source": [
    "A[0][0] = A[0][0] + A[0][0] * 0.1\n",
    "print(A)\n",
    "print(\"Deter =\", np.linalg.det(A))"
   ]
  },
  {
   "cell_type": "markdown",
   "metadata": {},
   "source": [
    "Теперб определитель не равен нулю, соответственно мы можем найти обратную матрицу."
   ]
  },
  {
   "cell_type": "code",
   "execution_count": 7,
   "metadata": {},
   "outputs": [
    {
     "name": "stdout",
     "output_type": "stream",
     "text": [
      "[[ 3.33333333e+00 -1.11111111e+00  1.17190208e-16]\n",
      " [-3.63636364e+00  1.15151515e+00  2.72727273e-01]\n",
      " [ 2.72727273e+00 -6.96969697e-01 -4.54545455e-01]]\n"
     ]
    }
   ],
   "source": [
    "B = np.linalg.inv(A)\n",
    "print(B)"
   ]
  },
  {
   "cell_type": "code",
   "execution_count": 8,
   "metadata": {},
   "outputs": [
    {
     "name": "stdout",
     "output_type": "stream",
     "text": [
      "[[ 1.00000000e+00  2.22044605e-16  1.66533454e-16]\n",
      " [-1.33226763e-15  1.00000000e+00  5.55111512e-17]\n",
      " [-2.66453526e-15 -4.44089210e-16  1.00000000e+00]]\n"
     ]
    }
   ],
   "source": [
    "print(A@B)"
   ]
  },
  {
   "cell_type": "markdown",
   "metadata": {},
   "source": [
    "Таким образом, матрица имела определитель, равный нулю и была необратимой. После внесения абсолютной погрешности определитель стал отличным от нуля и нахождение обратной матрицы стало возможным"
   ]
  },
  {
   "cell_type": "markdown",
   "metadata": {},
   "source": [
    "### $$№1.7$$"
   ]
  },
  {
   "cell_type": "markdown",
   "metadata": {},
   "source": [
    "Вычислить значения машинного нуля, машинной бесконечности, машинного эпсилон в режимах одинарной и двойной точности на алгоритмическом языке. Сравнить результаты с результатами задачи 1.6. "
   ]
  },
  {
   "cell_type": "code",
   "execution_count": 9,
   "metadata": {},
   "outputs": [],
   "source": [
    "def machineEpsilon(func):\n",
    "    fepsilon = func(1)\n",
    "    while (func(1) + func(fepsilon) != func(1)):\n",
    "        fepsilon = func(fepsilon) / func(2)\n",
    "    return fepsilon"
   ]
  },
  {
   "cell_type": "code",
   "execution_count": 10,
   "metadata": {},
   "outputs": [
    {
     "name": "stdout",
     "output_type": "stream",
     "text": [
      "Машинный эпсилон для двойной точности 1.1102230246251565e-16\n",
      "Машинный эпсилон для одинарной точности 5.9604645e-08\n"
     ]
    }
   ],
   "source": [
    "print(\"Машинный эпсилон для двойной точности\",machineEpsilon(float))\n",
    "print(\"Машинный эпсилон для одинарной точности\",machineEpsilon(np.float32))"
   ]
  },
  {
   "cell_type": "code",
   "execution_count": 11,
   "metadata": {},
   "outputs": [],
   "source": [
    "def machineZero(func):\n",
    "    a = func(1)\n",
    "    k = 0\n",
    "    while (func(a) != func(0)):\n",
    "        a = func(a) / func(2)\n",
    "        k = k - 1\n",
    "    return k"
   ]
  },
  {
   "cell_type": "code",
   "execution_count": 12,
   "metadata": {},
   "outputs": [
    {
     "name": "stdout",
     "output_type": "stream",
     "text": [
      "Машинный ноль для двойной точности  5e-324\n",
      "Машинный ноль для одинарной точности  7.006492321624085e-46\n"
     ]
    }
   ],
   "source": [
    "print(\"Машинный ноль для двойной точности \",2**machineZero(float))\n",
    "print(\"Машинный ноль для одинарной точности \",2**machineZero(np.float32))"
   ]
  },
  {
   "cell_type": "code",
   "execution_count": 13,
   "metadata": {},
   "outputs": [],
   "source": [
    "def machine_continium(func):\n",
    "    a = func(1)\n",
    "    a_prev = func(0)\n",
    "    dict = []\n",
    "    while func(a_prev) != func(a):\n",
    "        dict.append(a)\n",
    "        a_prev = func(a)\n",
    "        a = func(a) * 2\n",
    "    return dict[-2]"
   ]
  },
  {
   "cell_type": "code",
   "execution_count": 14,
   "metadata": {},
   "outputs": [
    {
     "name": "stdout",
     "output_type": "stream",
     "text": [
      "Машинная бесконечность для двойной точности  8.98846567431158e+307\n",
      "Машинная бесконечность для одинарной точности  1.7014118346046923e+38\n"
     ]
    }
   ],
   "source": [
    "print(\"Машинная бесконечность для двойной точности \",machine_continium(float))\n",
    "print(\"Машинная бесконечность для одинарной точности \",machine_continium(np.float32))"
   ]
  },
  {
   "cell_type": "markdown",
   "metadata": {},
   "source": [
    "Сравнивая полученные результаты с результатами 1.6 можно сделать следующие выводы:\n",
    "- Машинная бесконечность совпадает для случая двойной точности\n",
    "- Машинный ноль и эпсилон значительно меньше в пакете Маткад"
   ]
  },
  {
   "cell_type": "markdown",
   "metadata": {},
   "source": [
    "### $$№1.6$$"
   ]
  },
  {
   "attachments": {
    "%D0%91%D0%B5%D0%B7%D1%8B%D0%BC%D1%8F%D0%BD%D0%BD%D1%8B%D0%B9.png": {
     "image/png": "[encoded data removed]"
    }
   },
   "cell_type": "markdown",
   "metadata": {},
   "source": [
    "![%D0%91%D0%B5%D0%B7%D1%8B%D0%BC%D1%8F%D0%BD%D0%BD%D1%8B%D0%B9.png](attachment:%D0%91%D0%B5%D0%B7%D1%8B%D0%BC%D1%8F%D0%BD%D0%BD%D1%8B%D0%B9.png)"
   ]
  },
  {
   "cell_type": "markdown",
   "metadata": {},
   "source": [
    "Машинная бесконечность $\\approx 10^{307}$ (как $2^{1020}$)\n",
    "\n",
    "Машинный нуль $\\approx 10^{-16}$ (как $2^{-50}$)\n",
    "\n",
    "Машинное эпсилон $\\approx 10^{-4}$ (как $2^{-10}$)"
   ]
  },
  {
   "cell_type": "markdown",
   "metadata": {},
   "source": [
    "### $$№1.9.4$$"
   ]
  },
  {
   "cell_type": "markdown",
   "metadata": {},
   "source": [
    "Для матрицы A решить вопрос о существовании обратной матрицы в следующих случаях:\n",
    "\n",
    "1) элементы матрицы заданы точно;\n",
    "\n",
    "2) элементы матрицы заданы приближенно с относительной погрешностью a) δ = α % и b) δ = β %. Найти относительную погрешность результата.\n",
    "\n",
    "$$A = \\begin{pmatrix}\n",
    "  9& 5& 6\\\\\n",
    "  13.5& 9.5& 11\\\\\n",
    "  8& 4& 5\n",
    "\\end{pmatrix} , \\alpha=0.1,   \\beta=0.5$$"
   ]
  },
  {
   "cell_type": "code",
   "execution_count": 85,
   "metadata": {},
   "outputs": [
    {
     "name": "stdout",
     "output_type": "stream",
     "text": [
      "Deter = 2.000000000000001\n"
     ]
    }
   ],
   "source": [
    "A = np.array([[9.,5.,6.], [13.5,9.5,11], [8.,4.,5.]])\n",
    "alpha = 0.1\n",
    "beta = 0.5\n",
    "print(\"Deter =\",np.linalg.det(A))"
   ]
  },
  {
   "cell_type": "markdown",
   "metadata": {},
   "source": [
    "Определитель не равен 0, соответственно, матрица обратима."
   ]
  },
  {
   "cell_type": "code",
   "execution_count": 89,
   "metadata": {},
   "outputs": [
    {
     "name": "stdout",
     "output_type": "stream",
     "text": [
      "[[  1.75  -0.5   -1.  ]\n",
      " [ 10.25  -1.5   -9.  ]\n",
      " [-11.     2.     9.  ]]\n"
     ]
    }
   ],
   "source": [
    "B = np.linalg.inv(A)\n",
    "print(B)"
   ]
  },
  {
   "cell_type": "code",
   "execution_count": 87,
   "metadata": {},
   "outputs": [
    {
     "name": "stdout",
     "output_type": "stream",
     "text": [
      "[[ 1.00000000e+00  1.33226763e-15 -3.55271368e-15]\n",
      " [ 3.55271368e-15  1.00000000e+00  1.77635684e-15]\n",
      " [ 3.55271368e-15 -6.66133815e-16  1.00000000e+00]]\n"
     ]
    }
   ],
   "source": [
    "print(A@B)"
   ]
  },
  {
   "cell_type": "markdown",
   "metadata": {},
   "source": [
    "Исходя из предположений из приложения 1.C найдём max и min определителя (он в данном случае является функцией). Эти значения достигаются в точках, координаты которых имеют вид $a_{ij}( 1 ± δ )$.Таких\n",
    "точек $2^9 = 512$.В каждой из них следует вычислить определитель, а затем выбрать из полученных значений самое большое и самое маленькое.Это и будут числа $max(M)$ и $min(m)$."
   ]
  },
  {
   "cell_type": "code",
   "execution_count": 122,
   "metadata": {},
   "outputs": [],
   "source": [
    "def find_max_min(A, alph):\n",
    "    deter = []\n",
    "    for i in range(512):\n",
    "        binnumb = '{0:09b}'.format(i)\n",
    "        \n",
    "        buf = np.zeros(9)\n",
    "        cnumb = 0\n",
    "        \n",
    "        for i in binnumb:\n",
    "            if i == '1':\n",
    "                buf[cnumb] = 1\n",
    "            else:\n",
    "                buf[cnumb] = -1\n",
    "            cnumb+=1\n",
    "        buf = buf.reshape(3,3) \n",
    "        \n",
    "        B = A + buf*alph*A\n",
    "        deter.append(np.linalg.det(B))\n",
    "    return max(deter),min(deter)"
   ]
  },
  {
   "cell_type": "code",
   "execution_count": 123,
   "metadata": {},
   "outputs": [
    {
     "data": {
      "text/plain": [
       "(95.47299999999998, -82.50600000000001)"
      ]
     },
     "execution_count": 123,
     "metadata": {},
     "output_type": "execute_result"
    }
   ],
   "source": [
    "find_max_min(A, alpha)"
   ]
  },
  {
   "cell_type": "code",
   "execution_count": 124,
   "metadata": {},
   "outputs": [
    {
     "data": {
      "text/plain": [
       "(1630.1249999999989, -1577.2499999999993)"
      ]
     },
     "execution_count": 124,
     "metadata": {},
     "output_type": "execute_result"
    }
   ],
   "source": [
    "find_max_min(A, beta)"
   ]
  },
  {
   "cell_type": "markdown",
   "metadata": {},
   "source": [
    "В обоих случаях $0$ попал в отрезок $[m,M]$, то есть мы имеем неопределённость относительно обратимости матрицы."
   ]
  },
  {
   "cell_type": "markdown",
   "metadata": {},
   "source": [
    "Найдём относительную погрешность для первого интервала (первого значения δ).\n",
    "\n",
    "$\\Delta_1$ = |95.473 - 2| = 93.473\n",
    "\n",
    "$\\Delta_2$ = |-82.506 - 2| = 84.506\n",
    "\n",
    "Берём верхнюю оценку, соответсвенно относительная погрешность для $\\alpha = 0.1 \\%$ равна $\\delta = \\frac{\\Delta_1}{|A|} =\n",
    "\\frac{93.473}{2} = 46.74$"
   ]
  },
  {
   "cell_type": "markdown",
   "metadata": {},
   "source": [
    "Найдём относительную погрешность для второго интервала (второго значения δ).\n",
    "\n",
    "$\\Delta_1$ = |1630.13 - 2| = 1628.13\n",
    "\n",
    "$\\Delta_2$ = |-1577.25 - 2| = 1579.25\n",
    "\n",
    "Берём верхнюю оценку, соответсвенно относительная погрешность для $\\alpha = 0.5 \\%$ равна $\\delta = \\frac{\\Delta_1}{|A|} =\n",
    "\\frac{1628.13}{2} = 814$"
   ]
  },
  {
   "cell_type": "code",
   "execution_count": null,
   "metadata": {},
   "outputs": [],
   "source": []
  }
 ],
 "metadata": {
  "kernelspec": {
   "display_name": "Python 3",
   "language": "python",
   "name": "python3"
  },
  "language_info": {
   "codemirror_mode": {
    "name": "ipython",
    "version": 3
   },
   "file_extension": ".py",
   "mimetype": "text/x-python",
   "name": "python",
   "nbconvert_exporter": "python",
   "pygments_lexer": "ipython3",
   "version": "3.7.3"
  }
 },
 "nbformat": 4,
 "nbformat_minor": 2
}
